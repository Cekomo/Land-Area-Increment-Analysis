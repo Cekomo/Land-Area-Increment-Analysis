{
 "cells": [
  {
   "attachments": {},
   "cell_type": "markdown",
   "metadata": {},
   "source": [
    "# Effects of Economics & Population Increment on Land Reclamation\n",
    "\n",
    "This report aims to analyze the correlation between a country's wealth, population growth, and the occurrence of land reclamation. To understand wealth of a country, GDP per capita table will be consulted as well as use of population table for population growth. \n",
    "\n",
    "This project seeks to demonstrate why certain regions implement land reclamation strategies, with a focus on three key factors:\n",
    "- Economic factors\n",
    "- Population growth\n",
    "- Land reclamation availability at coast\n",
    "\n",
    "Basically, increment in population creates a need of land area especially if certain region is small enough such as Hong Kong or Singapore. To fulfill this demand, land reclamation becomes a viable option, but it requires a nation to be sufficiently equipped for its execution. Motivation on land reclamation can be based on business-oriented infrastructure  like building harbour. \n",
    "\n",
    "Before diving into analysis, it is important to mention limitations of dataset. In this report, the main focus will be on `Land Area of Countries` table. Data in this table spans from 1961 to 2020. Within this 59 years, multiple occurences happened that can change the land area of countries as well as land reclamation. These phenomenons should be detected to make a healthy analysis. Those occurences are:\n",
    "- Technological developments that enable more precise measurement of land area via satellites. This improvements may change (negatively or positively) land area significantly especially if the land area is big enough. \n",
    "- Floods that can lead loss of land due to sea level increase or from other causes\n",
    "- Volcanic & Tectonic activies that can create new land\n",
    "\n",
    "Besides this occurences, there are other examples affecting land area change throughout the years. I will try the examine land reclamation by developing various perspectives to prevent those phenomenons to interfere analysis of the project. "
   ]
  },
  {
   "attachments": {},
   "cell_type": "markdown",
   "metadata": {},
   "source": [
    "## Countries to Choose\n",
    "When considering a country's stance on land reclamation, it can be helpful to categorize countries into four distinct groups to determine what country is prone to structe land reclamation. Countries can be categorized as:\n",
    "- Landlocked countries which does not have any coast or major lake to structure land reclamation,\n",
    "- Countries having cities at coast with relatively low population density & sufficient area\n",
    "- Countries having small sized cities at coast with high urban population density \n",
    "- Regions at coast that are city-states or exhibit city-state characteristics (very-high population density within small area)\n",
    "\n",
    "Considering two distinct countries, Ethiopia and Singapore, demonstrates the contrast between the first and fourth categories mentioned. Ethiopia, being landlocked and lacking a coastline or significant inland water bodies, does not have the opportunity to engage in large-scale land reclamation projects. In contrast, Singapore is densely populated and faces the challenge of limited available land for expanding its facilities and infrastructure. Due to this scarcity of land, land reclamation activities in Singapore are highly feasible.\n",
    "\n",
    "When land reclamation projects implemented in inland water of a countries are researched, we see that there are limited implementations that are not large scale due to ecological and hydrological considerations. Therefore, we can exclude landlocked countries having major inland lake because even though there is land reclamation, the scale is small. This circumstance induces nothing but a minor error in the analysis. \n",
    "\n",
    "To understand which country to include to the analysis, a score computation approach can be developed that considers above categories as well as limitations that is mentioned before."
   ]
  },
  {
   "cell_type": "markdown",
   "metadata": {},
   "source": [
    "### Filter Landlocked Countries\n",
    "As a first indicator, we can consider a dataset that displays countries' coast length. This information will enable us to exclude countries having no coast line."
   ]
  },
  {
   "cell_type": "code",
   "execution_count": 15,
   "metadata": {},
   "outputs": [
    {
     "name": "stdout",
     "output_type": "stream",
     "text": [
      "Landlocked Countries:\n",
      "Afghanistan, Andorra, Armenia, Austria, Azerbaijan, \n",
      "Belarus, Bhutan, Bolivia, Botswana, Burkina Faso, \n",
      "Burundi, Central African Republic, Chad, Czech Republic, Ethiopia, \n",
      "Hungary, Kazakhstan, Kyrgyzstan, Laos, Lesotho, \n",
      "Liechtenstein, Luxembourg, Macedonia, Malawi, Mali, \n",
      "Moldova, Mongolia, Nepal, Niger, Paraguay, \n",
      "Rwanda, San Marino, Serbia, Slovakia, Swaziland, \n",
      "Switzerland, Tajikistan, Turkmenistan, Uganda, Uzbekistan, \n",
      "West Bank, Zambia, Zimbabwe, "
     ]
    }
   ],
   "source": [
    "import psycopg2\n",
    "\n",
    "# Establish a database connection\n",
    "conn = psycopg2.connect(\n",
    "    dbname=\"country_surface_area\",\n",
    "    user=\"postgres\",\n",
    "    password=\"3204965\",\n",
    "    host=\"localhost\",\n",
    "    port=\"5432\"\n",
    ")\n",
    "\n",
    "# Create a cursor\n",
    "cur = conn.cursor()\n",
    "\n",
    "# Define the SQL query\n",
    "query = \"\"\"\n",
    "    SELECT country_name AS landlocked_country\n",
    "    FROM countries_coastline\n",
    "    WHERE coastline_km2_wf = 0;\n",
    "\"\"\"\n",
    "\n",
    "# Execute the query\n",
    "cur.execute(query)\n",
    "\n",
    "# Fetch the results\n",
    "results = cur.fetchall()\n",
    "\n",
    "# Close the cursor and connection\n",
    "cur.close()\n",
    "conn.close()\n",
    "\n",
    "# Define the number of elements to print per line\n",
    "elements_per_line = 5\n",
    "\n",
    "# Print the landlocked countries with a specified number of elements per line\n",
    "print(\"Landlocked Countries:\")\n",
    "for i, row in enumerate(results, start=1):\n",
    "    print(row[0], end=\", \")\n",
    "    \n",
    "    if i % elements_per_line == 0:\n",
    "        print()  # Move to the next line after printing the specified number of elements"
   ]
  },
  {
   "cell_type": "markdown",
   "metadata": {},
   "source": [
    "\n"
   ]
  }
 ],
 "metadata": {
  "kernelspec": {
   "display_name": "Python 3",
   "language": "python",
   "name": "python3"
  },
  "language_info": {
   "codemirror_mode": {
    "name": "ipython",
    "version": 3
   },
   "file_extension": ".py",
   "mimetype": "text/x-python",
   "name": "python",
   "nbconvert_exporter": "python",
   "pygments_lexer": "ipython3",
   "version": "3.11.5"
  },
  "orig_nbformat": 4
 },
 "nbformat": 4,
 "nbformat_minor": 2
}
