{
 "cells": [
  {
   "cell_type": "markdown",
   "metadata": {},
   "source": [
    "# Effects of Economics & Population Increment on Land Reclamation\n",
    "\n",
    "This report aims to analyze the correlation between a country's wealth, population growth, and the occurrence of land reclamation. To understand wealth of a country, GDP per capita table will be consulted as well as use of population table for population growth. \n",
    "\n",
    "This project seeks to demonstrate why certain regions implement land reclamation strategies, with a focus on three key factors:\n",
    "- Economic factors\n",
    "- Population growth\n",
    "- Land availability\n",
    "\n",
    "Basically, increment in population creates a need of land area especially if certain region is small enough such as Hong Kong or Singapore. To fulfill this demand, land reclamation becomes a viable option, but it requires a nation to be sufficiently equipped for its execution. Motivation on land reclamation can be based on business-oriented infrastructure  like building harbour. \n",
    "\n",
    "Before diving into analysis, it is important to mention limitations of dataset. In this report, the main focus will be on `Land Area of Countries` table. Data in this table spans from 1961 to 2020. Within this 59 years, multiple occurences happened that can change the land area of countries as well as land reclamation. These phenomenons should be detected to make a healthy analysis. Those occurences are:\n",
    "- Technological developments that enable more precise measurement of land area via satellites. This improvements may change (negatively or positively) land area significantly especially if the land area is big enough. \n",
    "- Floods that can lead loss of land due to sea level increase or from other causes\n",
    "- Volcanic & Tectonic activies that can create new land\n",
    "\n",
    "Besides this occurences, there are other examples affecting land area change throughout the years. I will try the examine land reclamation by developing various perspectives to prevent those phenomenons to interfere analysis of the project. "
   ]
  },
  {
   "cell_type": "markdown",
   "metadata": {},
   "source": []
  }
 ],
 "metadata": {
  "language_info": {
   "name": "python"
  },
  "orig_nbformat": 4
 },
 "nbformat": 4,
 "nbformat_minor": 2
}
