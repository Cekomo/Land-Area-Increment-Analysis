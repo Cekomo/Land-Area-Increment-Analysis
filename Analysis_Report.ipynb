{
 "cells": [
  {
   "attachments": {},
   "cell_type": "markdown",
   "metadata": {},
   "source": [
    "# Effects of Economics & Population Increment on Land Reclamation\n",
    "\n",
    "This report aims to analyze the correlation between a country's wealth, population growth, and the occurrence of land reclamation. To understand wealth of a country, GDP per capita table will be consulted as well as use of population table for population growth. \n",
    "\n",
    "This project seeks to demonstrate why certain regions implement land reclamation strategies, with a focus on three key factors:\n",
    "- Economic factors\n",
    "- Population growth\n",
    "- Land reclamation availability at coast\n",
    "\n",
    "Basically, increment in population creates a need of land area especially if certain region is small enough such as Hong Kong or Singapore. To fulfill this demand, land reclamation becomes a viable option, but it requires a nation to be sufficiently equipped for its execution. Motivation on land reclamation can be based on business-oriented infrastructure  like building harbour. \n",
    "\n",
    "Before diving into analysis, it is important to mention limitations of dataset. In this report, the main focus will be on `Land Area of Countries` table. Data in this table spans from 1961 to 2020. Within this 59 years, multiple occurences happened that can change the land area of countries as well as land reclamation. These phenomenons should be detected to make a healthy analysis. Those occurences are:\n",
    "- Technological developments that enable more precise measurement of land area via satellites. This improvements may change (negatively or positively) land area significantly especially if the land area is big enough. \n",
    "- Floods that can lead loss of land due to sea level increase or from other causes\n",
    "- Volcanic & Tectonic activies that can create new land\n",
    "\n",
    "Besides this occurences, there are other examples affecting land area change throughout the years. I will try the examine land reclamation by developing various perspectives to prevent those phenomenons to interfere analysis of the project. "
   ]
  },
  {
   "attachments": {},
   "cell_type": "markdown",
   "metadata": {},
   "source": [
    "## Countries to Choose\n",
    "When considering a country's stance on land reclamation, it can be helpful to categorize countries into four distinct groups to determine what country is prone to structe land reclamation. Countries can be categorized as:\n",
    "- Landlocked countries which does not have any coast or major lake to structure land reclamation,\n",
    "- Countries having cities at coast with relatively low population density & sufficient area\n",
    "- Countries having small sized cities at coast with high urban population density \n",
    "- Regions at coast that are city-states or exhibit city-state characteristics (very-high population density within small area)\n",
    "\n",
    "Considering two distinct countries, Ethiopia and Singapore, demonstrates the contrast between the first and fourth categories mentioned. Ethiopia, being landlocked and lacking a coastline or significant inland water bodies, does not have the opportunity to engage in large-scale land reclamation projects. In contrast, Singapore is densely populated and faces the challenge of limited available land for expanding its facilities and infrastructure. Due to this scarcity of land, land reclamation activities in Singapore are highly feasible.\n",
    "\n",
    "To understand which country to include to the analysis, a score computation approach can be developed that considers above categories as well as limitations that is mentioned before."
   ]
  },
  {
   "attachments": {},
   "cell_type": "markdown",
   "metadata": {},
   "source": [
    "### Filtering Countries \n",
    "\n",
    "As a first indicator, we can consider a dataset that displays countries' coast length. This information will enable us to exclude countries having small to none coast line if they does not have any in-land major lake. \n"
   ]
  }
 ],
 "metadata": {
  "language_info": {
   "name": "python"
  },
  "orig_nbformat": 4
 },
 "nbformat": 4,
 "nbformat_minor": 2
}
